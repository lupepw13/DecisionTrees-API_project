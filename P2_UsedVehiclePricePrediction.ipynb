{
  "nbformat": 4,
  "nbformat_minor": 0,
  "metadata": {
    "kernelspec": {
      "display_name": "Python 3",
      "language": "python",
      "name": "python3"
    },
    "language_info": {
      "codemirror_mode": {
        "name": "ipython",
        "version": 3
      },
      "file_extension": ".py",
      "mimetype": "text/x-python",
      "name": "python",
      "nbconvert_exporter": "python",
      "pygments_lexer": "ipython3",
      "version": "3.7.3"
    },
    "colab": {
      "name": "P2-UsedVehiclePricePrediction.ipynb",
      "provenance": [],
      "include_colab_link": true
    }
  },
  "cells": [
    {
      "cell_type": "markdown",
      "metadata": {
        "id": "view-in-github",
        "colab_type": "text"
      },
      "source": [
        "<a href=\"https://colab.research.google.com/github/VivianaMunoz/DecisionTrees-API_project/blob/master/P2_UsedVehiclePricePrediction.ipynb\" target=\"_parent\"><img src=\"https://colab.research.google.com/assets/colab-badge.svg\" alt=\"Open In Colab\"/></a>"
      ]
    },
    {
      "cell_type": "markdown",
      "metadata": {
        "id": "vbRP_MdQnygr",
        "colab_type": "text"
      },
      "source": [
        "# Project 2\n",
        "\n",
        "# Used Vehicle Price Prediction"
      ]
    },
    {
      "cell_type": "markdown",
      "metadata": {
        "id": "nsOYIhBHnygs",
        "colab_type": "text"
      },
      "source": [
        "## Introduction\n",
        "\n",
        "- 1.2 Million listings scraped from TrueCar.com - Price, Mileage, Make, Model dataset from Kaggle: [data](https://www.kaggle.com/jpayne/852k-used-car-listings)\n",
        "- Each observation represents the price of an used car\n",
        "\n",
        "- Lupe Pinzon - 200813063\n",
        "- Javier Lesmes - 200820243\n",
        "- Viviana Muñoz - 201920081"
      ]
    },
    {
      "cell_type": "code",
      "metadata": {
        "id": "iX_9Lgj5nygt",
        "colab_type": "code",
        "colab": {}
      },
      "source": [
        "%matplotlib inline\n",
        "import pandas as pd"
      ],
      "execution_count": null,
      "outputs": []
    },
    {
      "cell_type": "code",
      "metadata": {
        "id": "dQNT3e0bnygw",
        "colab_type": "code",
        "colab": {}
      },
      "source": [
        "data = pd.read_csv('../datasets/dataTrain_carListings.zip')"
      ],
      "execution_count": null,
      "outputs": []
    },
    {
      "cell_type": "code",
      "metadata": {
        "id": "n4C313z9nygz",
        "colab_type": "code",
        "colab": {},
        "outputId": "f20059b1-290e-41b1-855a-9dbf00436b61"
      },
      "source": [
        "data.head()"
      ],
      "execution_count": null,
      "outputs": [
        {
          "output_type": "execute_result",
          "data": {
            "text/html": [
              "<div>\n",
              "<style scoped>\n",
              "    .dataframe tbody tr th:only-of-type {\n",
              "        vertical-align: middle;\n",
              "    }\n",
              "\n",
              "    .dataframe tbody tr th {\n",
              "        vertical-align: top;\n",
              "    }\n",
              "\n",
              "    .dataframe thead th {\n",
              "        text-align: right;\n",
              "    }\n",
              "</style>\n",
              "<table border=\"1\" class=\"dataframe\">\n",
              "  <thead>\n",
              "    <tr style=\"text-align: right;\">\n",
              "      <th></th>\n",
              "      <th>Price</th>\n",
              "      <th>Year</th>\n",
              "      <th>Mileage</th>\n",
              "      <th>State</th>\n",
              "      <th>Make</th>\n",
              "      <th>Model</th>\n",
              "    </tr>\n",
              "  </thead>\n",
              "  <tbody>\n",
              "    <tr>\n",
              "      <th>0</th>\n",
              "      <td>21490</td>\n",
              "      <td>2014</td>\n",
              "      <td>31909</td>\n",
              "      <td>MD</td>\n",
              "      <td>Nissan</td>\n",
              "      <td>MuranoAWD</td>\n",
              "    </tr>\n",
              "    <tr>\n",
              "      <th>1</th>\n",
              "      <td>21250</td>\n",
              "      <td>2016</td>\n",
              "      <td>25741</td>\n",
              "      <td>KY</td>\n",
              "      <td>Chevrolet</td>\n",
              "      <td>CamaroCoupe</td>\n",
              "    </tr>\n",
              "    <tr>\n",
              "      <th>2</th>\n",
              "      <td>20925</td>\n",
              "      <td>2016</td>\n",
              "      <td>24633</td>\n",
              "      <td>SC</td>\n",
              "      <td>Hyundai</td>\n",
              "      <td>Santa</td>\n",
              "    </tr>\n",
              "    <tr>\n",
              "      <th>3</th>\n",
              "      <td>14500</td>\n",
              "      <td>2012</td>\n",
              "      <td>84026</td>\n",
              "      <td>OK</td>\n",
              "      <td>Jeep</td>\n",
              "      <td>Grand</td>\n",
              "    </tr>\n",
              "    <tr>\n",
              "      <th>4</th>\n",
              "      <td>32488</td>\n",
              "      <td>2013</td>\n",
              "      <td>22816</td>\n",
              "      <td>TN</td>\n",
              "      <td>Jeep</td>\n",
              "      <td>Wrangler</td>\n",
              "    </tr>\n",
              "  </tbody>\n",
              "</table>\n",
              "</div>"
            ],
            "text/plain": [
              "   Price  Year  Mileage State       Make        Model\n",
              "0  21490  2014    31909    MD     Nissan    MuranoAWD\n",
              "1  21250  2016    25741    KY  Chevrolet  CamaroCoupe\n",
              "2  20925  2016    24633    SC    Hyundai        Santa\n",
              "3  14500  2012    84026    OK       Jeep        Grand\n",
              "4  32488  2013    22816    TN       Jeep     Wrangler"
            ]
          },
          "metadata": {
            "tags": []
          },
          "execution_count": 58
        }
      ]
    },
    {
      "cell_type": "code",
      "metadata": {
        "id": "O4Dy8G2Inyg2",
        "colab_type": "code",
        "colab": {},
        "outputId": "a235c38d-7948-4fc6-ede1-ef2f1b715fbd"
      },
      "source": [
        "data.shape"
      ],
      "execution_count": null,
      "outputs": [
        {
          "output_type": "execute_result",
          "data": {
            "text/plain": [
              "(500000, 6)"
            ]
          },
          "metadata": {
            "tags": []
          },
          "execution_count": 18
        }
      ]
    },
    {
      "cell_type": "code",
      "metadata": {
        "id": "in1Ulsrtnyg4",
        "colab_type": "code",
        "colab": {},
        "outputId": "91f9c5d4-2bb5-47fd-8014-4e4b13651d15"
      },
      "source": [
        "data.Price.describe()"
      ],
      "execution_count": null,
      "outputs": [
        {
          "output_type": "execute_result",
          "data": {
            "text/plain": [
              "count    500000.000000\n",
              "mean      21144.186304\n",
              "std       10753.259704\n",
              "min        5001.000000\n",
              "25%       13499.000000\n",
              "50%       18450.000000\n",
              "75%       26998.000000\n",
              "max       79999.000000\n",
              "Name: Price, dtype: float64"
            ]
          },
          "metadata": {
            "tags": []
          },
          "execution_count": 19
        }
      ]
    },
    {
      "cell_type": "code",
      "metadata": {
        "id": "tut_6nipnyg6",
        "colab_type": "code",
        "colab": {},
        "outputId": "fb1178d0-f0ab-4a58-c264-bd8a1edffe8b"
      },
      "source": [
        "data.plot(kind='scatter', y='Price', x='Year')"
      ],
      "execution_count": null,
      "outputs": [
        {
          "output_type": "execute_result",
          "data": {
            "text/plain": [
              "<matplotlib.axes._subplots.AxesSubplot at 0x1cd3f249b70>"
            ]
          },
          "metadata": {
            "tags": []
          },
          "execution_count": 20
        },
        {
          "output_type": "display_data",
          "data": {
            "image/png": "[encoded data removed]",
            "text/plain": [
              "<Figure size 432x288 with 1 Axes>"
            ]
          },
          "metadata": {
            "tags": [],
            "needs_background": "light"
          }
        }
      ]
    },
    {
      "cell_type": "code",
      "metadata": {
        "id": "7911-Bh2nyg8",
        "colab_type": "code",
        "colab": {},
        "outputId": "8f6a7426-66a2-40a4-ba3c-9bd8bfbfc2ca"
      },
      "source": [
        "data.plot(kind='scatter', y='Price', x='Mileage')"
      ],
      "execution_count": null,
      "outputs": [
        {
          "output_type": "execute_result",
          "data": {
            "text/plain": [
              "<matplotlib.axes._subplots.AxesSubplot at 0x1cd3f27fc18>"
            ]
          },
          "metadata": {
            "tags": []
          },
          "execution_count": 21
        },
        {
          "output_type": "display_data",
          "data": {
            "image/png": "[encoded data removed]",
            "text/plain": [
              "<Figure size 432x288 with 1 Axes>"
            ]
          },
          "metadata": {
            "tags": [],
            "needs_background": "light"
          }
        }
      ]
    },
    {
      "cell_type": "code",
      "metadata": {
        "id": "wVejGXKQnyhA",
        "colab_type": "code",
        "colab": {},
        "outputId": "99eaee39-98d5-4670-881b-80a13110e778"
      },
      "source": [
        "data.head()"
      ],
      "execution_count": null,
      "outputs": [
        {
          "output_type": "execute_result",
          "data": {
            "text/html": [
              "<div>\n",
              "<style scoped>\n",
              "    .dataframe tbody tr th:only-of-type {\n",
              "        vertical-align: middle;\n",
              "    }\n",
              "\n",
              "    .dataframe tbody tr th {\n",
              "        vertical-align: top;\n",
              "    }\n",
              "\n",
              "    .dataframe thead th {\n",
              "        text-align: right;\n",
              "    }\n",
              "</style>\n",
              "<table border=\"1\" class=\"dataframe\">\n",
              "  <thead>\n",
              "    <tr style=\"text-align: right;\">\n",
              "      <th></th>\n",
              "      <th>Price</th>\n",
              "      <th>Year</th>\n",
              "      <th>Mileage</th>\n",
              "      <th>State</th>\n",
              "      <th>Make</th>\n",
              "      <th>Model</th>\n",
              "    </tr>\n",
              "  </thead>\n",
              "  <tbody>\n",
              "    <tr>\n",
              "      <th>0</th>\n",
              "      <td>21490</td>\n",
              "      <td>2014</td>\n",
              "      <td>31909</td>\n",
              "      <td>MD</td>\n",
              "      <td>Nissan</td>\n",
              "      <td>MuranoAWD</td>\n",
              "    </tr>\n",
              "    <tr>\n",
              "      <th>1</th>\n",
              "      <td>21250</td>\n",
              "      <td>2016</td>\n",
              "      <td>25741</td>\n",
              "      <td>KY</td>\n",
              "      <td>Chevrolet</td>\n",
              "      <td>CamaroCoupe</td>\n",
              "    </tr>\n",
              "    <tr>\n",
              "      <th>2</th>\n",
              "      <td>20925</td>\n",
              "      <td>2016</td>\n",
              "      <td>24633</td>\n",
              "      <td>SC</td>\n",
              "      <td>Hyundai</td>\n",
              "      <td>Santa</td>\n",
              "    </tr>\n",
              "    <tr>\n",
              "      <th>3</th>\n",
              "      <td>14500</td>\n",
              "      <td>2012</td>\n",
              "      <td>84026</td>\n",
              "      <td>OK</td>\n",
              "      <td>Jeep</td>\n",
              "      <td>Grand</td>\n",
              "    </tr>\n",
              "    <tr>\n",
              "      <th>4</th>\n",
              "      <td>32488</td>\n",
              "      <td>2013</td>\n",
              "      <td>22816</td>\n",
              "      <td>TN</td>\n",
              "      <td>Jeep</td>\n",
              "      <td>Wrangler</td>\n",
              "    </tr>\n",
              "  </tbody>\n",
              "</table>\n",
              "</div>"
            ],
            "text/plain": [
              "   Price  Year  Mileage State       Make        Model\n",
              "0  21490  2014    31909    MD     Nissan    MuranoAWD\n",
              "1  21250  2016    25741    KY  Chevrolet  CamaroCoupe\n",
              "2  20925  2016    24633    SC    Hyundai        Santa\n",
              "3  14500  2012    84026    OK       Jeep        Grand\n",
              "4  32488  2013    22816    TN       Jeep     Wrangler"
            ]
          },
          "metadata": {
            "tags": []
          },
          "execution_count": 22
        }
      ]
    },
    {
      "cell_type": "markdown",
      "metadata": {
        "id": "J5EVTleSnyhC",
        "colab_type": "text"
      },
      "source": [
        "# Exercise P2.1 (50%)\n",
        "\n",
        "Develop a machine learning model that predicts the price of the of car using as an input ['Year', 'Mileage', 'State', 'Make', 'Model']\n",
        "\n",
        "#### Evaluation:\n",
        "- 25% - Performance of the model using K-Fold (K=10) cross-validation\n",
        "- 25% - Notebook explaining the modeling process\n"
      ]
    },
    {
      "cell_type": "markdown",
      "metadata": {
        "id": "rZdwC_NonyhC",
        "colab_type": "text"
      },
      "source": [
        "Para inciar ajustamos la base de datos con la información requerida, creando la variables dummy necesarias"
      ]
    },
    {
      "cell_type": "code",
      "metadata": {
        "id": "gL3AQurCnyhC",
        "colab_type": "code",
        "colab": {}
      },
      "source": [
        "data = pd.read_csv('../datasets/dataTrain_carListings.zip')"
      ],
      "execution_count": null,
      "outputs": []
    },
    {
      "cell_type": "code",
      "metadata": {
        "id": "tNix65l3nyhE",
        "colab_type": "code",
        "colab": {},
        "outputId": "836d1967-b38e-4f82-e38a-2f69cb0a38d2"
      },
      "source": [
        "data['HighPrice'] = (data['Price'] > data['Price'].mean()).astype(int)\n",
        "data = data.drop(['Price'], axis=1)\n",
        "data.head()"
      ],
      "execution_count": null,
      "outputs": [
        {
          "output_type": "execute_result",
          "data": {
            "text/html": [
              "<div>\n",
              "<style scoped>\n",
              "    .dataframe tbody tr th:only-of-type {\n",
              "        vertical-align: middle;\n",
              "    }\n",
              "\n",
              "    .dataframe tbody tr th {\n",
              "        vertical-align: top;\n",
              "    }\n",
              "\n",
              "    .dataframe thead th {\n",
              "        text-align: right;\n",
              "    }\n",
              "</style>\n",
              "<table border=\"1\" class=\"dataframe\">\n",
              "  <thead>\n",
              "    <tr style=\"text-align: right;\">\n",
              "      <th></th>\n",
              "      <th>Year</th>\n",
              "      <th>Mileage</th>\n",
              "      <th>State</th>\n",
              "      <th>Make</th>\n",
              "      <th>Model</th>\n",
              "      <th>HighPrice</th>\n",
              "    </tr>\n",
              "  </thead>\n",
              "  <tbody>\n",
              "    <tr>\n",
              "      <th>0</th>\n",
              "      <td>2014</td>\n",
              "      <td>31909</td>\n",
              "      <td>MD</td>\n",
              "      <td>Nissan</td>\n",
              "      <td>MuranoAWD</td>\n",
              "      <td>1</td>\n",
              "    </tr>\n",
              "    <tr>\n",
              "      <th>1</th>\n",
              "      <td>2016</td>\n",
              "      <td>25741</td>\n",
              "      <td>KY</td>\n",
              "      <td>Chevrolet</td>\n",
              "      <td>CamaroCoupe</td>\n",
              "      <td>1</td>\n",
              "    </tr>\n",
              "    <tr>\n",
              "      <th>2</th>\n",
              "      <td>2016</td>\n",
              "      <td>24633</td>\n",
              "      <td>SC</td>\n",
              "      <td>Hyundai</td>\n",
              "      <td>Santa</td>\n",
              "      <td>0</td>\n",
              "    </tr>\n",
              "    <tr>\n",
              "      <th>3</th>\n",
              "      <td>2012</td>\n",
              "      <td>84026</td>\n",
              "      <td>OK</td>\n",
              "      <td>Jeep</td>\n",
              "      <td>Grand</td>\n",
              "      <td>0</td>\n",
              "    </tr>\n",
              "    <tr>\n",
              "      <th>4</th>\n",
              "      <td>2013</td>\n",
              "      <td>22816</td>\n",
              "      <td>TN</td>\n",
              "      <td>Jeep</td>\n",
              "      <td>Wrangler</td>\n",
              "      <td>1</td>\n",
              "    </tr>\n",
              "  </tbody>\n",
              "</table>\n",
              "</div>"
            ],
            "text/plain": [
              "   Year  Mileage State       Make        Model  HighPrice\n",
              "0  2014    31909    MD     Nissan    MuranoAWD          1\n",
              "1  2016    25741    KY  Chevrolet  CamaroCoupe          1\n",
              "2  2016    24633    SC    Hyundai        Santa          0\n",
              "3  2012    84026    OK       Jeep        Grand          0\n",
              "4  2013    22816    TN       Jeep     Wrangler          1"
            ]
          },
          "metadata": {
            "tags": []
          },
          "execution_count": 54
        }
      ]
    },
    {
      "cell_type": "code",
      "metadata": {
        "id": "fjwNKiLznyhG",
        "colab_type": "code",
        "colab": {}
      },
      "source": [
        "data =data.join(pd.get_dummies(data['State'],prefix='S'))\n",
        "data =data.join(pd.get_dummies(data['Make'],prefix='M'))\n",
        "data =data.join(pd.get_dummies(data['Model'],prefix='Mo'))\n",
        "data = data.drop(['State', 'Make','Model'], axis=1)\n",
        "\n",
        "y = data['HighPrice']\n",
        "X = data.drop(['HighPrice'], axis=1)"
      ],
      "execution_count": null,
      "outputs": []
    },
    {
      "cell_type": "code",
      "metadata": {
        "id": "sGUQOVfOnyhJ",
        "colab_type": "code",
        "colab": {},
        "outputId": "5424601e-ce86-4a8f-83f5-4dee5feef65a"
      },
      "source": [
        "from sklearn.model_selection import train_test_split\n",
        "X_train, X_test, y_train, y_test = train_test_split(X, y, test_size=0.33, random_state=42)\n",
        "X_train.shape"
      ],
      "execution_count": null,
      "outputs": [
        {
          "output_type": "execute_result",
          "data": {
            "text/plain": [
              "(335000, 616)"
            ]
          },
          "metadata": {
            "tags": []
          },
          "execution_count": 56
        }
      ]
    },
    {
      "cell_type": "markdown",
      "metadata": {
        "id": "WT1tQq3QnyhL",
        "colab_type": "text"
      },
      "source": [
        "Para reducir la dimensionalidad vamos a usar un Random Forest para enteder que variables son significativas"
      ]
    },
    {
      "cell_type": "code",
      "metadata": {
        "id": "tHjQqxf4nyhL",
        "colab_type": "code",
        "colab": {},
        "outputId": "77bc339c-fa18-49fb-da9f-97ecc8d70c62"
      },
      "source": [
        "from sklearn.ensemble import RandomForestClassifier\n",
        "import numpy as np\n",
        "\n",
        "names = list(X)\n",
        "clf = RandomForestClassifier(n_estimators=10)\n",
        "clf.fit(X_train, y_train)\n",
        "\n",
        "# summarize feature importance\n",
        "importance = pd.DataFrame (sorted(zip(map(lambda x: round(x, 4), clf.feature_importances_),names), \n",
        "             reverse=True))\n",
        "importance.shape"
      ],
      "execution_count": null,
      "outputs": [
        {
          "output_type": "execute_result",
          "data": {
            "text/plain": [
              "(616, 2)"
            ]
          },
          "metadata": {
            "tags": []
          },
          "execution_count": 57
        }
      ]
    },
    {
      "cell_type": "code",
      "metadata": {
        "id": "TZ1M-zS8nyhO",
        "colab_type": "code",
        "colab": {},
        "outputId": "6fb8ceb5-4c86-4a7b-c734-faf12f4bdf60"
      },
      "source": [
        "importance = importance[importance[0] >=0]\n",
        "importance.shape"
      ],
      "execution_count": null,
      "outputs": [
        {
          "output_type": "execute_result",
          "data": {
            "text/plain": [
              "(9, 2)"
            ]
          },
          "metadata": {
            "tags": []
          },
          "execution_count": 62
        }
      ]
    },
    {
      "cell_type": "code",
      "metadata": {
        "id": "Eez85H3LnyhR",
        "colab_type": "code",
        "colab": {},
        "outputId": "eee9927e-8041-4e20-ee3f-a111b13c01de"
      },
      "source": [
        "data = data[['Mileage','Year','Mo_Silverado','Mo_Wrangler','M_Kia','M_Hyundai','Mo_FusionSE','M_Lexus','M_Honda','Mo_MalibuLT','HighPrice']]\n",
        "\n",
        "y = data['HighPrice']\n",
        "X = data.drop(['HighPrice'], axis=1)\n",
        "\n",
        "from sklearn.model_selection import train_test_split\n",
        "X_train, X_test, y_train, y_test = train_test_split(X, y, test_size=0.33, random_state=42)\n",
        "X_train.shape"
      ],
      "execution_count": null,
      "outputs": [
        {
          "output_type": "execute_result",
          "data": {
            "text/plain": [
              "(335000, 10)"
            ]
          },
          "metadata": {
            "tags": []
          },
          "execution_count": 65
        }
      ]
    },
    {
      "cell_type": "code",
      "metadata": {
        "id": "EAhsXS-fnyhS",
        "colab_type": "code",
        "colab": {},
        "outputId": "71ccb38e-7b33-4e30-b71e-603f54c6b1f5"
      },
      "source": [
        "from sklearn.metrics import mean_squared_error\n",
        "\n",
        "clf = RandomForestClassifier(n_estimators=10)\n",
        "clf.fit(X_train, y_train)\n",
        "\n",
        "y_pred = clf.predict(X_test)\n",
        "np.sqrt(mean_squared_error(y_test, y_pred))"
      ],
      "execution_count": null,
      "outputs": [
        {
          "output_type": "execute_result",
          "data": {
            "text/plain": [
              "0.5564987952286232"
            ]
          },
          "metadata": {
            "tags": []
          },
          "execution_count": 66
        }
      ]
    },
    {
      "cell_type": "code",
      "metadata": {
        "id": "CZlbFd3inyhU",
        "colab_type": "code",
        "colab": {},
        "outputId": "c7b24cef-7c25-4b85-9a89-aaa8545b31f6"
      },
      "source": [
        "from xgboost import XGBClassifier\n",
        "from sklearn.metrics import accuracy_score\n",
        "\n",
        "clf2 = XGBClassifier()\n",
        "clf2.fit(X_train, y_train)\n",
        "y_pred2 = clf2.predict(X_test)\n",
        "\n",
        "np.sqrt(mean_squared_error(y_test, y_pred2))"
      ],
      "execution_count": null,
      "outputs": [
        {
          "output_type": "execute_result",
          "data": {
            "text/plain": [
              "0.4993996395673509"
            ]
          },
          "metadata": {
            "tags": []
          },
          "execution_count": 67
        }
      ]
    },
    {
      "cell_type": "code",
      "metadata": {
        "id": "BSwX6aPsnyhW",
        "colab_type": "code",
        "colab": {},
        "outputId": "baf5d597-8d17-4d5f-ac9f-65fd61afd4d1"
      },
      "source": [
        "from sklearn.model_selection import GridSearchCV\n",
        "from sklearn.model_selection import StratifiedKFold\n",
        "from sklearn.preprocessing import LabelEncoder\n",
        "\n",
        "label_encoded_y = LabelEncoder().fit_transform(y_train)\n",
        "\n",
        "clf = XGBClassifier()    \n",
        "learning_rate = [0.0001, 0.001, 0.01, 0.1, 0.2, 0.3]\n",
        "param_grid = dict(learning_rate=learning_rate)\n",
        "busqueda = GridSearchCV(clf, param_grid, n_jobs=-1, cv=10)\n",
        "resultado = busqueda.fit(X_train, label_encoded_y)\n",
        "\n",
        "# summarize results\n",
        "print(\"Best: %f using %s\" % (resultado.best_score_, resultado.best_params_))"
      ],
      "execution_count": null,
      "outputs": [
        {
          "output_type": "stream",
          "text": [
            "Best: 0.882090 using {'learning_rate': 0.3}\n"
          ],
          "name": "stdout"
        }
      ]
    },
    {
      "cell_type": "code",
      "metadata": {
        "id": "5XtTjDAGnyhY",
        "colab_type": "code",
        "colab": {},
        "outputId": "1388dc8e-e045-4537-986b-194c26c2d9c7"
      },
      "source": [
        "param_test1 = {\n",
        " 'max_depth':range(3,10,2),\n",
        " 'min_child_weight':range(1,6,2)\n",
        "}\n",
        "\n",
        "clf = XGBClassifier()    \n",
        "param_grid = param_test1\n",
        "busqueda = GridSearchCV(clf, param_grid, n_jobs=-1, cv=10)\n",
        "resultado = busqueda.fit(X_train, label_encoded_y)\n",
        "\n",
        "# summarize results\n",
        "print(\"Best: %f using %s\" % (resultado.best_score_, resultado.best_params_))"
      ],
      "execution_count": null,
      "outputs": [
        {
          "output_type": "stream",
          "text": [
            "Best: 0.881493 using {'max_depth': 7, 'min_child_weight': 1}\n"
          ],
          "name": "stdout"
        }
      ]
    },
    {
      "cell_type": "code",
      "metadata": {
        "id": "ks9UVlcsnyha",
        "colab_type": "code",
        "colab": {},
        "outputId": "9efc74bd-ac35-4565-bb44-0b92d9ba32df"
      },
      "source": [
        "param_test2 = {\n",
        " 'gamma':[i/10.0 for i in range(0,5)]\n",
        "}\n",
        "\n",
        "clf = XGBClassifier(max_depth=7, min_child_weight= 1)    \n",
        "param_grid = param_test2\n",
        "busqueda = GridSearchCV(clf, param_grid, n_jobs=-1, cv=10)\n",
        "resultado = busqueda.fit(X_train, label_encoded_y)\n",
        "\n",
        "# summarize results\n",
        "print(\"Best: %f using %s\" % (resultado.best_score_, resultado.best_params_))"
      ],
      "execution_count": null,
      "outputs": [
        {
          "output_type": "stream",
          "text": [
            "Best: 0.882687 using {'gamma': 0.3}\n"
          ],
          "name": "stdout"
        }
      ]
    },
    {
      "cell_type": "markdown",
      "metadata": {
        "id": "kXYk_g35nyhc",
        "colab_type": "text"
      },
      "source": [
        "# Exercise P2.2 (50%)\n",
        "\n",
        "Create an API of the model.\n",
        "\n",
        "Example:\n",
        "![](https://raw.githubusercontent.com/albahnsen/PracticalMachineLearningClass/master/notebooks/images/img015.PNG)\n",
        "\n",
        "#### Evaluation:\n",
        "- 40% - API hosted on a cloud service\n",
        "- 10% - Show screenshots of the model doing the predictions on the local machine\n"
      ]
    }
  ]
}