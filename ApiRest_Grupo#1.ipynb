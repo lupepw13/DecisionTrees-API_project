{
 "cells": [
  {
   "cell_type": "markdown",
   "metadata": {},
   "source": [
    "### Predicción precio de carros - Grupo #1\n",
    "\n",
    "- Lupe Pinzon - 200813063\n",
    "- Javier Lesmes - 200820243\n",
    "- Viviana Muñoz - 201920081"
   ]
  },
  {
   "cell_type": "code",
   "execution_count": null,
   "metadata": {},
   "outputs": [],
   "source": [
    "http://ec2-3-135-238-238.us-east-2.compute.amazonaws.com:5000/"
   ]
  },
  {
   "cell_type": "code",
   "execution_count": null,
   "metadata": {},
   "outputs": [],
   "source": [
    "#importe de librerias\n",
    "from flask import Flask\n",
    "from flask_restx import Api, Resource, fields\n",
    "from sklearn.externals import joblib\n",
    "app =Flask(__name__)"
   ]
  },
  {
   "cell_type": "code",
   "execution_count": null,
   "metadata": {},
   "outputs": [],
   "source": [
    "#parametros de la API (Esto se ve en el formulario que desprende el API)\n",
    "api =Api(app,version='1.0',title='Predicción precio de carros - Grupo  #1',description='')\n",
    "ns =api.namespace('predictCarPrice',description='')\n",
    "\n",
    "parser= api.parser()\n",
    "\n",
    "parser.add_argument('year',type=str,required=True,help='',location='args')\n",
    "parser.add_argument('mileage',type=str,required=True,help='',location='args')\n",
    "parser.add_argument('state',type=str,required=True,help='',location='args')\n",
    "parser.add_argument('make',type=str,required=True,help='',location='args')\n",
    "parser.add_argument('model',type=str,required=True,help='',location='args')\n",
    "\n",
    "resource_fields = api.model('Resource',{'result':fields.String})\n",
    "\n",
    "\n",
    "#funcion que contendra el compilado del modelo y retornara su respuesta en el return de esta funcion\n",
    "def carPricePredict(year,mileage,state,make,model):\n",
    "    \n",
    "    #aca iria el modelo\n",
    "    stringResult = \"year: \"+year+\", mileage: \"+mileage+\", state: \"+state+\", make: \"+make+\", model: \"+model+\";\"\n",
    "    return stringResult\n",
    "\n",
    "#Path del api\n",
    "@ns.route('/')\n",
    "class PriceCar(Resource):\n",
    "\n",
    "#clase que expone el endpoint del api\n",
    "    @api.doc(parser=parser)\n",
    "    @api.marshal_with(resource_fields)\n",
    "#metodo get del api para la consulta de datos cuando se hace el request entra en esta funcion.\n",
    "    def get(self):\n",
    "            \n",
    "        try:\n",
    "#lectura de parametros enviados en la peticion reuqest\n",
    "            args=parser.parse_args()\n",
    "#asignacion de parametros a variables para posible transformacion de datos\n",
    "            year=args['year']\n",
    "            mileage=args['mileage']\n",
    "            state=args['state']\n",
    "            make=args['make']\n",
    "            model=args['model']\n",
    "            return{\n",
    "#respuesta del API con la funcion de la prediccion#Path del api\n",
    "                \"result\":carPricePredict(year,mileage,state,make,model)\n",
    "            },200\n",
    "#captura de la excepcion si existe algun error en el request\n",
    "        except Exception as e:\n",
    "            return{\n",
    "                \"Tu peticion no puedo ser procesda por: \": e\n",
    "            },500\n",
    "#inicializacion de la api donde definimos el puerto\n",
    "app.run(debug=True, use_reloader=False, host='0.0.0.0', port=5000)\n"
   ]
  }
 ],
 "metadata": {
  "kernelspec": {
   "display_name": "Python 3",
   "language": "python",
   "name": "python3"
  },
  "language_info": {
   "codemirror_mode": {
    "name": "ipython",
    "version": 3
   },
   "file_extension": ".py",
   "mimetype": "text/x-python",
   "name": "python",
   "nbconvert_exporter": "python",
   "pygments_lexer": "ipython3",
   "version": "3.7.3"
  }
 },
 "nbformat": 4,
 "nbformat_minor": 2
}
